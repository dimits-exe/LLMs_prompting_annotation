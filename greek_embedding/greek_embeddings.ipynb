{
 "cells": [
  {
   "cell_type": "code",
   "execution_count": 1,
   "id": "99ba5e23-924e-4469-847f-1bb38be6a315",
   "metadata": {},
   "outputs": [
    {
     "name": "stdout",
     "output_type": "stream",
     "text": [
      "Downloading dataset...\n",
      "Unzipping...\n"
     ]
    },
    {
     "ename": "NameError",
     "evalue": "name 'zip_archive' is not defined",
     "output_type": "error",
     "traceback": [
      "\u001b[1;31m---------------------------------------------------------------------------\u001b[0m",
      "\u001b[1;31mNameError\u001b[0m                                 Traceback (most recent call last)",
      "Cell \u001b[1;32mIn[1], line 20\u001b[0m\n\u001b[0;32m     17\u001b[0m     file\u001b[38;5;241m.\u001b[39mwrite(contents)\n\u001b[0;32m     19\u001b[0m \u001b[38;5;28mprint\u001b[39m(\u001b[38;5;124m\"\u001b[39m\u001b[38;5;124mUnzipping...\u001b[39m\u001b[38;5;124m\"\u001b[39m)\n\u001b[1;32m---> 20\u001b[0m \u001b[38;5;28;01mwith\u001b[39;00m ZipFile(zip_archive, \u001b[38;5;124m'\u001b[39m\u001b[38;5;124mr\u001b[39m\u001b[38;5;124m'\u001b[39m) \u001b[38;5;28;01mas\u001b[39;00m zfile:\n\u001b[0;32m     21\u001b[0m     zfile\u001b[38;5;241m.\u001b[39mextractall(path\u001b[38;5;241m=\u001b[39mDATA_DIR)\n\u001b[0;32m     23\u001b[0m \u001b[38;5;66;03m# organize zipped directory\u001b[39;00m\n",
      "\u001b[1;31mNameError\u001b[0m: name 'zip_archive' is not defined"
     ]
    }
   ],
   "source": [
    "from zipfile import ZipFile \n",
    "import shutil\n",
    "import os\n",
    "import urllib.request\n",
    "import pandas as pd\n",
    "\n",
    "\n",
    "DATA_DIR = \"data\"\n",
    "\n",
    "print(\"Downloading dataset...\")\n",
    "url = \"https://zenodo.org/record/6626316/files/Greek%20Parliament%20Proceedings%20Dataset_Support%20Files_Word%20Usage%20Change%20Computations.zip\"\n",
    "with urllib.request.urlopen(url) as f:\n",
    "    zip_contents = f.read()\n",
    "\n",
    "zip_path = os.path.join(\"data\", \"greek.zip\")\n",
    "with open(zip_path, \"wb\") as file:\n",
    "    file.write(zip_contents)\n",
    "\n",
    "print(\"Unzipping...\")\n",
    "with ZipFile(zip_archive, 'r') as zfile:\n",
    "    zfile.extractall(path=DATA_DIR)\n",
    "\n",
    "# organize zipped directory\n",
    "DATA_DIR = \"data\"\n",
    "old_dir = os.path.join(DATA_DIR, \"Greek Parliament Proceedings Dataset_Support Files_Word Usage Change Computations\")\n",
    "new_dir = os.path.join(DATA_DIR, \"greek\")\n",
    "\n",
    "shutil.rmtree(os.path.join(DATA_DIR, \"__MACOSX\"))\n",
    "os.rename(old_dir, new_dir) \n",
    "\n",
    "print(\"Loading...\")\n",
    "df = pd.read_csv(os.path.join(new_dir, \"tell_all_cleaned.csv\"), encoding=\"utf-8\")\n",
    "df "
   ]
  },
  {
   "cell_type": "code",
   "execution_count": null,
   "id": "e2349c9b-2e09-4987-9f04-47ec10ecf017",
   "metadata": {},
   "outputs": [],
   "source": [
    "data.sitting_date = pd.to_datetime(data.sitting_date, dayfirst=True)\n",
    "data = data[data.speech.isnull()]\n",
    "\n",
    "data.set_index(\"sitting_date\", inplace=True)\n",
    "data.sort_index(inplace=True) # required to avoid wrong slicing (and warnings)"
   ]
  },
  {
   "cell_type": "code",
   "execution_count": null,
   "id": "c80aef31-5be1-4828-b357-5ea3ecfa0c3b",
   "metadata": {},
   "outputs": [],
   "source": [
    "import gensim\n",
    "\n",
    "\n",
    "docs = annual_models[2009].speech.apply(word_tokenize).to_list()\n",
    "model09 = gensim.models.FastText(docs, \n",
    "                                 vector_size=100, \n",
    "                                 window=5, \n",
    "                                 min_count=3)"
   ]
  }
 ],
 "metadata": {
  "kernelspec": {
   "display_name": "Python 3 (ipykernel)",
   "language": "python",
   "name": "python3"
  },
  "language_info": {
   "codemirror_mode": {
    "name": "ipython",
    "version": 3
   },
   "file_extension": ".py",
   "mimetype": "text/x-python",
   "name": "python",
   "nbconvert_exporter": "python",
   "pygments_lexer": "ipython3",
   "version": "3.11.5"
  }
 },
 "nbformat": 4,
 "nbformat_minor": 5
}
