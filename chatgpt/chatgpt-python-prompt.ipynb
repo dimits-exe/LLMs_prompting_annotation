{
 "cells": [
  {
   "cell_type": "markdown",
   "id": "0ad4b7c9",
   "metadata": {},
   "source": [
    "# ChatGPT Limits on Code Generation: An Example\n",
    "\n",
    "### Practical Data Science: 1st Assignement\n",
    "\n",
    "#### Dimitrios Tsirmpas "
   ]
  },
  {
   "cell_type": "markdown",
   "id": "cedf6004",
   "metadata": {},
   "source": [
    "## Case 1: Verifying Greek Tax Codes\n",
    "\n",
    "The Greek Tax Identification Number (TIN) consists of 9 digits. The last digit is a check digit. It is calculated as follows:\n",
    "\n",
    "1. Remove the check digit, so that we are left with an 8-digit number.\n",
    "2. Take the 8 digits one by one, from the right to the left. \n",
    "3. Multiply each digit by the power of 2 corresponding to its position: the first from the right will be multiplied by 21, the second will be multiplied by 22, and so on.\n",
    "4. Take these powers and sum them.\n",
    "5. Calculate the remainder of this sum by 11.\n",
    "6. Take this remainder and we calculate its remainder by 10. The result must equal the check digit.\n",
    "\n",
    "This is a pretty simple task, provided we know the algorithm. We will thus use it to check whether the LLM can piece together information about a relatively obscure, but publicly available topic."
   ]
  },
  {
   "cell_type": "markdown",
   "id": "1679c313",
   "metadata": {},
   "source": [
    "In order to check the validity of our algorithm we will build a simple template function:"
   ]
  },
  {
   "cell_type": "code",
   "execution_count": 1,
   "id": "f65ba4eb",
   "metadata": {},
   "outputs": [],
   "source": [
    "from typing import Callable\n",
    "\n",
    "\n",
    "def print_check_tin(check_func: Callable[[str], bool], tin: str) -> None:\n",
    "    \"\"\"\n",
    "    Print the resultof a function validating a Greek TIN.\n",
    "    :@param check_func: the validator function\n",
    "    :@param tin: the TIN to be checked\n",
    "    \"\"\"\n",
    "    if check_func(tin):\n",
    "        print(f\"The TIN {tin} is valid.\")\n",
    "    else:\n",
    "        print(f\"The TIN {tin} is not valid.\")"
   ]
  },
  {
   "cell_type": "markdown",
   "id": "a5b4ee0d",
   "metadata": {},
   "source": [
    "And define one correct and one false TIN."
   ]
  },
  {
   "cell_type": "code",
   "execution_count": 2,
   "id": "5e6264d2",
   "metadata": {},
   "outputs": [],
   "source": [
    "correct_tin = \"090034337\"\n",
    "false_tin = \"090034336\""
   ]
  },
  {
   "cell_type": "markdown",
   "id": "09e0a2ce",
   "metadata": {},
   "source": [
    "### Vague Prompt\n",
    "\n",
    "We can assume the model knows enough about the Greek TIN identification number, and thus not specify the calculation itself in our prompt. By giving the following prompt:\n",
    "\n",
    "`Write a python program checking the validity of the Greek Tax Identification Number (TIN)`\n",
    "\n",
    "The LLM produces the following result:"
   ]
  },
  {
   "cell_type": "code",
   "execution_count": 3,
   "id": "fc2208b1",
   "metadata": {},
   "outputs": [],
   "source": [
    "def is_valid_greek_tin(tin):\n",
    "    # Check if the TIN has exactly 9 digits\n",
    "    if len(tin) != 9:\n",
    "        return False\n",
    "\n",
    "    # Check if all characters are digits\n",
    "    if not tin.isdigit():\n",
    "        return False\n",
    "\n",
    "    # Extract the last digit (check digit)\n",
    "    check_digit = int(tin[-1])\n",
    "\n",
    "    # Calculate the weighted sum of the first 8 digits\n",
    "    weighted_sum = 0\n",
    "    for i in range(8):\n",
    "        digit = int(tin[i])\n",
    "        if i % 2 == 0:\n",
    "            digit *= 2\n",
    "            if digit > 9:\n",
    "                digit -= 9\n",
    "        weighted_sum += digit\n",
    "\n",
    "    # Calculate the remainder when dividing the weighted sum by 10\n",
    "    remainder = weighted_sum % 10\n",
    "    \n",
    "    # Check if the check digit matches the remainder\n",
    "    return check_digit == remainder"
   ]
  },
  {
   "cell_type": "markdown",
   "id": "8a4a44f8",
   "metadata": {},
   "source": [
    "With the following comments:\n",
    "\n",
    "`A Greek Tax Identification Number (TIN), also known as the AFM (Αριθμός Φορολογικού Μητρώου), follows a specific format and has rules for validity. A valid Greek TIN should consist of 9 digits, and it should satisfy specific mathematical criteria. Here's a Python program to check the validity of a Greek TIN:`\n",
    "\n",
    "`This program checks the validity of a Greek TIN by verifying that it has 9 digits, all of which are numeric, and that it satisfies the mathematical criteria specified for Greek TINs. It calculates a weighted sum of the first 8 digits and compares the check digit with the remainder when dividing the weighted sum by 10 to determine validity.`"
   ]
  },
  {
   "cell_type": "markdown",
   "id": "6568aef8",
   "metadata": {},
   "source": [
    "Let's now call the generated code from our template function:"
   ]
  },
  {
   "cell_type": "code",
   "execution_count": 4,
   "id": "11865a8e",
   "metadata": {},
   "outputs": [
    {
     "name": "stdout",
     "output_type": "stream",
     "text": [
      "The TIN 090034337 is not valid.\n",
      "The TIN 090034336 is not valid.\n"
     ]
    }
   ],
   "source": [
    "print_check_tin(is_valid_greek_tin, correct_tin)\n",
    "print_check_tin(is_valid_greek_tin, false_tin)"
   ]
  },
  {
   "cell_type": "markdown",
   "id": "40ca8d62",
   "metadata": {},
   "source": [
    "We can see that the calculation is incorrect. If we examine the code we can notice it's mostly correct, but is missing the `modulo 11` operation at the end.\n",
    "\n",
    "Notice how the model seems to know (or \"believe\" it knows) enough about our request to execute it and give us a description of the algorithm. Had we not checked the validity of the code ourselves, we would not have suspected it."
   ]
  },
  {
   "cell_type": "markdown",
   "id": "25105676",
   "metadata": {},
   "source": [
    "Let's ask the LLM why this mistake took place:\n",
    "\n",
    "**Prompt**:\n",
    "```\n",
    "Explain the calculation step by step.\n",
    "```\n",
    "\n",
    "**Answer**:\n",
    "```\n",
    "Sure, let's break down the calculation of the Greek Tax Identification Number (TIN) step by step:\n",
    "\n",
    "    Input Validation:\n",
    "        The TIN is initially checked to ensure it consists of exactly 9 digits.\n",
    "        It is also confirmed that the TIN contains only numeric digits (0-9).\n",
    "\n",
    "    Verification Digit Isolation:\n",
    "        The last digit of the TIN (the 9th digit) is separated and temporarily removed for later verification.\n",
    "\n",
    "    Initialization:\n",
    "        A running total (total) is initialized to zero.\n",
    "\n",
    "    Iterate Over the First 8 Digits:\n",
    "        The program loops through the first 8 digits of the TIN (indices 0 to 7).\n",
    "\n",
    "    Partial Sum Calculation:\n",
    "        For each digit, it adds the digit to the running total.\n",
    "        If the current digit is at an even position (0-based indexing, so 1st, 3rd, 5th, and 7th digits), it multiplies the digit by 2.\n",
    "        If the result of this multiplication is greater than 4, it subtracts 9 from it.\n",
    "\n",
    "    Calculate Verification Digit:\n",
    "        After processing all 8 digits, we have a total that includes the sum of the digits as per the algorithm.\n",
    "        The calculated verification digit is determined as the remainder of total when divided by 10.\n",
    "        If the remainder is 0, the calculated verification digit is set to 10 (in accordance with the Greek TIN validation rules).\n",
    "\n",
    "    Comparison:\n",
    "        Finally, the calculated verification digit is compared to the original 9th digit of the TIN (which was temporarily removed). If they match, the TIN is considered valid.\n",
    "\n",
    "Here's a simplified example:\n",
    "\n",
    "Suppose you have a Greek TIN: 123456789.\n",
    "\n",
    "    The program checks that it consists of 9 digits.\n",
    "    It separates the verification digit (9) and temporarily removes it.\n",
    "    The calculation starts with a total of 0.\n",
    "    It iterates through the first 8 digits (1, 2, 3, 4, 5, 6, 7, 8).\n",
    "    It adds the digits to total and applies the rules for even-indexed digits (e.g., 2 * 2 = 4, but since it's greater than 4, subtract 9 to get -5).\n",
    "    The total becomes 1 + 4 - 2 + 8 - 4 + 6 - 6 + 7 = 14.\n",
    "    The calculated verification digit is 14 % 10 = 4.\n",
    "    The calculated verification digit (4) is compared to the original 9th digit (9), and they don't match, so this TIN would be considered invalid.\n",
    "\n",
    "In a valid TIN, the calculated verification digit should match the original 9th digit.\n",
    "```\n",
    "\n",
    "Note how the model fails to properly explain the internal logic behind its actions and instead attempts to explain the code line-by-line. This lack of understanding (or rather *incomplete* understanding) is most likely the source of the error."
   ]
  },
  {
   "cell_type": "markdown",
   "id": "42e3cd65",
   "metadata": {},
   "source": [
    "### Detailed Prompt\n",
    "\n",
    "Let's try a detailed prompt, where we describe in detail the computation rules, and give a practical example.\n",
    "\n",
    "**Prompt**:\n",
    "\n",
    "```\n",
    "The Greek Tax Identification Number (TIN) consists of 9 digits. The last digit is a check digit. It is calculated as follows:\n",
    "\n",
    "    We remove the check digit, so that we are left with an 8-digit number.\n",
    "    We take the 8 digits one by one, from the right to the left. We multiply each digit by the power of 2 corresponding to its position: the first from the right will be multiplied by 21 the second will be multiplied by 22, and so on.\n",
    "    We take these powers and we sum them.\n",
    "    We calculate the remainder of this sum by 11.\n",
    "    We take this remainder and we calculate its remainder by 10. The result must equal the check digit.\n",
    "\n",
    "For example, let us say we have the TIN 090034337. The check digit is 7. The other digits are 09003433. We have: 3×21+3×22+4×23+3×24+9×27= 3×2+3×4+4×8+3×16+9×128= 6+12+32+48+1152=1250\n",
    "\n",
    "Then, 1250 mod 11 = 7 and 7 mod 10 = 7\n",
    "\n",
    "Write a program that will ask the user for TIN and will respond whether it is correct or not, with a function named 'is_valid_greek_tin2'.\n",
    "```\n",
    "\n",
    "**Answer**:"
   ]
  },
  {
   "cell_type": "code",
   "execution_count": 5,
   "id": "af3a3c4a",
   "metadata": {},
   "outputs": [],
   "source": [
    "def is_valid_greek_tin2(tin):\n",
    "    # Check if the TIN has exactly 9 digits\n",
    "    if len(tin) != 9:\n",
    "        return False\n",
    "\n",
    "    # Check if all characters are digits\n",
    "    if not tin.isdigit():\n",
    "        return False\n",
    "\n",
    "    # Extract the check digit from the TIN\n",
    "    check_digit = int(tin[-1])\n",
    "\n",
    "    # Remove the check digit to get the 8-digit number\n",
    "    digits = [int(char) for char in tin[:-1]]\n",
    "\n",
    "    # Calculate the weighted sum\n",
    "    weighted_sum = 0\n",
    "    for i, digit in enumerate(reversed(digits), start=1):\n",
    "        weighted_sum += digit * (2 ** i)\n",
    "\n",
    "    # Calculate the remainders\n",
    "    remainder_1 = weighted_sum % 11\n",
    "    remainder_2 = remainder_1 % 10\n",
    "\n",
    "    # Check if the check digit matches the calculated remainder\n",
    "    return remainder_2 == check_digit"
   ]
  },
  {
   "cell_type": "markdown",
   "id": "9b4dd90b",
   "metadata": {},
   "source": [
    "This time the `module 11` rule is included. Let's check the function again:"
   ]
  },
  {
   "cell_type": "code",
   "execution_count": 6,
   "id": "daeb7e7d",
   "metadata": {},
   "outputs": [
    {
     "name": "stdout",
     "output_type": "stream",
     "text": [
      "The TIN 090034337 is valid.\n",
      "The TIN 090034336 is not valid.\n"
     ]
    }
   ],
   "source": [
    "print_check_tin(is_valid_greek_tin2, correct_tin)\n",
    "print_check_tin(is_valid_greek_tin2, false_tin)"
   ]
  },
  {
   "cell_type": "markdown",
   "id": "367e3065",
   "metadata": {},
   "source": [
    "Thus, by specifying the rules explicitly, the model is able to generate the correct code."
   ]
  },
  {
   "cell_type": "markdown",
   "id": "cf7a4648",
   "metadata": {},
   "source": [
    "## Case 2: Calculating Orthodox Easter Sunday\n",
    "\n",
    "To calculate Orthodox Easter Sunday for any year between 1900 and 2099, we can use the following algorithm:\n",
    "```\n",
    "Suppose that y is the year.\n",
    "\n",
    "1. a=y mod 4\n",
    "2. b=y mod 7\n",
    "3. c=y mod 19\n",
    "4. d=(19*c+15) mod 30\n",
    "5. e=(2*a+4*b−d+34) mod 7 \n",
    "6. month=⌊((d+e+114)/31)⌋ (where ⌊x⌋ means the integer part of x)\n",
    "7. day=((d+e+114)mod31)+1\n",
    "\n",
    "The result is the day and the month in the Julian calendar. To convert it to the Gregorian calendar, which we actually use, we have to add 13 days.  \n",
    "```"
   ]
  },
  {
   "cell_type": "markdown",
   "id": "4402832b",
   "metadata": {},
   "source": [
    "We will start by defining a test function which will check if the code generated by ChatGPT is correct. We will also need a set of precalculated, correct dates for some Easter Sundays."
   ]
  },
  {
   "cell_type": "code",
   "execution_count": 7,
   "id": "2611be2b",
   "metadata": {},
   "outputs": [],
   "source": [
    "import datetime\n",
    "\n",
    "\n",
    "def test_sunday(easter_func: Callable[[int], datetime.date], expected: datetime.date) -> None:\n",
    "    \"\"\"\n",
    "    Checks if a function correctly calculates Orthodox Easter Sunday and prints the result.\n",
    "    :@param easter_func: a function that takes a year as an integer and returns a date object\n",
    "    corresponding to the Orthodox Easter of that year\n",
    "    :@param expected: the actual Orthodox Easter date\n",
    "    \"\"\"\n",
    "    \n",
    "    # never trust external code, especially from an LLM\n",
    "    try:\n",
    "        output = easter_func(expected.year) # external code call\n",
    "    except Exception as e:\n",
    "        print(f\"Incorrect: Year {expected.year} ({e})\")\n",
    "        return\n",
    "        \n",
    "    if output == expected:\n",
    "        print(f\"Correct: Year {expected.year}\")\n",
    "    else:\n",
    "        print(f\"Incorrect: Year {expected.year} (expected {expected.day}/{expected.month}, \"\n",
    "        f\"got {output.day}/{output.month})\")\n",
    "\n",
    "\n",
    "def test_all(easter_func: Callable[[int], datetime.date], dates: list[datetime.date]) -> None:\n",
    "    \"\"\"\n",
    "    A wrapper executing a test for a list of dates. \n",
    "    @see test_sunday\n",
    "    \"\"\"\n",
    "    for date in dates:\n",
    "        test_sunday(easter_func, date)\n",
    "\n",
    "\n",
    "correct_dates = [datetime.date(2012, 4, 15), \n",
    "                 datetime.date(2013, 5, 5), \n",
    "                 datetime.date(2014, 4, 20), \n",
    "                 datetime.date(2015, 4, 12), \n",
    "                 datetime.date(2016, 5, 1), \n",
    "                 datetime.date(2017, 4, 16)]"
   ]
  },
  {
   "cell_type": "markdown",
   "id": "5f16d634",
   "metadata": {},
   "source": [
    "### Vague Prompt\n",
    "\n",
    "We now query ChatGPT with the following prompt:\n",
    "\n",
    "**Prompt:**\n",
    "```\n",
    "Write a program in python taking as input a year and which outputs the date of that year's Orthodox Easter. Must be valid for all years ranging from 1900 to 2099\n",
    "```\n",
    "\n",
    "**Answer**:"
   ]
  },
  {
   "cell_type": "code",
   "execution_count": 8,
   "id": "88f695a2",
   "metadata": {},
   "outputs": [],
   "source": [
    "def orthodox_easter(year):\n",
    "    # Julian calendar parameters\n",
    "    a = year % 4\n",
    "    b = year % 7\n",
    "    c = year % 19\n",
    "    d = (19 * c + 15) % 30\n",
    "    e = (2 * a + 4 * b - d + 34) % 7\n",
    "    month = (d + e + 114) // 31\n",
    "    day = ((d + e + 114) % 31) + 1\n",
    "\n",
    "    # Convert the Julian date to the Gregorian date\n",
    "    if month == 3:\n",
    "        gregorian_month = 4\n",
    "        gregorian_day = day + 13\n",
    "    else:\n",
    "        gregorian_month = 3\n",
    "        gregorian_day = day + 14\n",
    "\n",
    "    # Check if the date is valid\n",
    "    if gregorian_month > 4:\n",
    "        gregorian_month -= 1\n",
    "\n",
    "    # Adjust year if necessary\n",
    "    if year < 1900:\n",
    "        year += 100\n",
    "\n",
    "    # Return the Orthodox Easter date\n",
    "    return datetime.date(year, gregorian_month, gregorian_day)"
   ]
  },
  {
   "cell_type": "markdown",
   "id": "6f945a39",
   "metadata": {},
   "source": [
    "With the following notes:\n",
    "\n",
    "`Calculating the date of Orthodox Easter can be a bit complex because it is based on the Julian calendar and the Gregorian calendar, which have different rules for calculating the date of Easter. Here's a Python program that calculates the date of Orthodox Easter for a given year within the range of 1900 to 2099:`\n",
    "\n",
    "`This program calculates the date of Orthodox Easter using the Julian calendar parameters and then converts it to the corresponding Gregorian date. It also validates the input year to ensure it falls within the specified range.`"
   ]
  },
  {
   "cell_type": "markdown",
   "id": "5f57d455",
   "metadata": {},
   "source": [
    "Let's now test the code:"
   ]
  },
  {
   "cell_type": "code",
   "execution_count": 9,
   "id": "2234e272",
   "metadata": {},
   "outputs": [
    {
     "name": "stdout",
     "output_type": "stream",
     "text": [
      "Incorrect: Year 2012 (expected 15/4, got 16/3)\n",
      "Incorrect: Year 2013 (day is out of range for month)\n",
      "Incorrect: Year 2014 (expected 20/4, got 21/3)\n",
      "Incorrect: Year 2015 (day is out of range for month)\n",
      "Incorrect: Year 2016 (day is out of range for month)\n",
      "Incorrect: Year 2017 (expected 16/4, got 17/3)\n"
     ]
    }
   ],
   "source": [
    "test_all(orthodox_easter, correct_dates)"
   ]
  },
  {
   "cell_type": "markdown",
   "id": "04a930b6",
   "metadata": {},
   "source": [
    "### Detailed Prompt\n",
    "\n",
    "Our original prompt was purposefully vague, which would explain the inaccuracies and lack of edge-case handling on the part of the LLM. Let's try giving a more detailed prompt instead:"
   ]
  },
  {
   "cell_type": "markdown",
   "id": "a528c00b",
   "metadata": {},
   "source": [
    "While superficially the code seems correct, it is evident that some logic errors have occured. \n",
    "\n",
    "Of note is the fact that some years result in invalid date exceptions being thrown, indicating a clear lack of edge case testing."
   ]
  },
  {
   "cell_type": "markdown",
   "id": "3df88652",
   "metadata": {},
   "source": [
    "**Prompt:**\n",
    "```\n",
    "Write a python program that calculates Orthodox Easter Sunday for any year.\n",
    "\n",
    "To calculate Orthodox Easter Sunday for any year between 1900 and 2099, we can use the following algorithm. Suppose that y is the year.\n",
    "\n",
    "a=ymod4\n",
    "b=ymod7\n",
    "c=ymod19\n",
    "d=(19c+15)mod30\n",
    "e=(2a+4b−d+34)mod7\n",
    "month=⌊((d+e+114)/31)⌋\n",
    "(Where the symbol ⌊x⌋ means the integer part of x, that is, x round down towards 0)\n",
    "day=((d+e+114)mod31)+1\n",
    "\n",
    "The result is the day and the month in the Julian calendar. To convert it to the Gregorian calendar, which we actually use, we have to add 13 days. Be careful, this may change the month.\n",
    "```\n",
    "\n",
    "The generated code is as follows:"
   ]
  },
  {
   "cell_type": "code",
   "execution_count": 10,
   "id": "fe194a09",
   "metadata": {},
   "outputs": [],
   "source": [
    "def calculate_orthodox_easter(year):\n",
    "    # Calculate parameters\n",
    "    a = year % 4\n",
    "    b = year % 7\n",
    "    c = year % 19\n",
    "    d = (19 * c + 15) % 30\n",
    "    e = (2 * a + 4 * b - d + 34) % 7\n",
    "    month = (d + e + 114) // 31\n",
    "    day = ((d + e + 114) % 31) + 1\n",
    "\n",
    "    # Convert to Gregorian calendar\n",
    "    gregorian_month = month + 3  # Add 3 to the month to convert to Gregorian\n",
    "    if gregorian_month > 12:\n",
    "        gregorian_month -= 12  # Adjust if the month is greater than 12\n",
    "    gregorian_day = day + 13  # Add 13 days to the day\n",
    "\n",
    "    # Check if the date is valid\n",
    "    if gregorian_month == 4 and gregorian_day > 30:\n",
    "        gregorian_day -= 30\n",
    "        gregorian_month += 1\n",
    "\n",
    "    # Adjust the year if necessary\n",
    "    if year < 1900:\n",
    "        year += 100\n",
    "\n",
    "    # Return the Orthodox Easter date in the Gregorian calendar\n",
    "    return datetime.date(year, gregorian_month, gregorian_day)\n"
   ]
  },
  {
   "cell_type": "markdown",
   "id": "9001745f",
   "metadata": {},
   "source": [
    "With the following comments:\n",
    "\n",
    "`Here's a Python program that calculates Orthodox Easter Sunday for any year between 1900 and 2099 using the provided algorithm and converts it to the Gregorian calendar:`\n",
    "\n",
    "`This program calculates the Orthodox Easter Sunday for any year between 1900 and 2099 using the provided algorithm and then converts it to the Gregorian calendar. It also handles cases where the date may cross over to the next month or year.`"
   ]
  },
  {
   "cell_type": "markdown",
   "id": "2594069d",
   "metadata": {},
   "source": [
    "If we now test the new generated function we will notice similar results:"
   ]
  },
  {
   "cell_type": "code",
   "execution_count": 11,
   "id": "c969d163",
   "metadata": {},
   "outputs": [
    {
     "name": "stdout",
     "output_type": "stream",
     "text": [
      "Incorrect: Year 2012 (expected 15/4, got 15/7)\n",
      "Incorrect: Year 2013 (day is out of range for month)\n",
      "Incorrect: Year 2014 (expected 20/4, got 20/7)\n",
      "Incorrect: Year 2015 (day is out of range for month)\n",
      "Incorrect: Year 2016 (expected 1/5, got 31/7)\n",
      "Incorrect: Year 2017 (expected 16/4, got 16/7)\n"
     ]
    }
   ],
   "source": [
    "test_all(calculate_orthodox_easter, correct_dates)"
   ]
  },
  {
   "cell_type": "markdown",
   "id": "662bb9b1",
   "metadata": {},
   "source": [
    "We can conclude therefore that the issue wasn't with a vague prompt, but rather with the LLM's inability to correctly tackle generating code for complex problems. "
   ]
  },
  {
   "cell_type": "markdown",
   "id": "8253cc12",
   "metadata": {},
   "source": [
    "## Conclusion\n",
    "\n",
    "In this notebook we analyzed two cases where prompting ChatGPT to generate code for some mildly complex problems failed.\n",
    "\n",
    "- Our first case demonstrates the dangers of assuming the level of knowledge the LLM can use for its current task, even if it assures us it knows enough to complete it.\n",
    "\n",
    "- Our second case demonstrates that a sufficiently complex task can make the LLM's code to fail, even if appropriate guideness and examples are provided.\n",
    "\n",
    "In any case, we should rigorously check and test external code, be it from other humans or LLMs."
   ]
  }
 ],
 "metadata": {
  "kernelspec": {
   "display_name": "Python 3 (ipykernel)",
   "language": "python",
   "name": "python3"
  },
  "language_info": {
   "codemirror_mode": {
    "name": "ipython",
    "version": 3
   },
   "file_extension": ".py",
   "mimetype": "text/x-python",
   "name": "python",
   "nbconvert_exporter": "python",
   "pygments_lexer": "ipython3",
   "version": "3.11.5"
  }
 },
 "nbformat": 4,
 "nbformat_minor": 5
}
